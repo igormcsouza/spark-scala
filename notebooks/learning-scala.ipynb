{
 "cells": [
  {
   "cell_type": "markdown",
   "metadata": {},
   "source": [
    "# Running some Scala Script in a Jupyter Notebook\n",
    "\n",
    "Those examples are from the book Scala."
   ]
  },
  {
   "cell_type": "code",
   "execution_count": 2,
   "metadata": {},
   "outputs": [
    {
     "data": {
      "text/plain": [
       "defined class Upper\n"
      ]
     },
     "execution_count": 2,
     "metadata": {},
     "output_type": "execute_result"
    }
   ],
   "source": [
    "// This scala script converts strings to uppercase\n",
    "/* Some questions about the class below...\n",
    "Question #1: What does < String* > means below? Well it tells `upper` method that\n",
    "we expect a variable-length list of Strings. We can pass as many csv to\n",
    "that method and it will deal with it as an Array on the argument string.\n",
    "\n",
    "Question #2: `Seq[String]` is the return type? Yes, exactly! and seq means sequency.\n",
    "\n",
    "Question #3: It that thing `(s:String) => s.toUpperCase()` a...? Well, in Scala we call\n",
    "an anonymous function, such as lambda function in Python. making good use of this question\n",
    "in Scala, the last argument is the return value of any function, notwithstanding we can put \n",
    "return key elsewhere.\n",
    "*/\n",
    "\n",
    "class Upper {\n",
    "    def upper(strings: String*): Seq[String] = {\n",
    "        strings.map((s:String) => s.toUpperCase())\n",
    "    }\n",
    "}"
   ]
  },
  {
   "cell_type": "code",
   "execution_count": 3,
   "metadata": {},
   "outputs": [
    {
     "name": "stdout",
     "output_type": "stream",
     "text": [
      "ArrayBuffer(A, FIRST, SCALA, SCRIPT)\n"
     ]
    },
    {
     "data": {
      "text/plain": [
       "up: Upper = Upper@1e10f67d\n"
      ]
     },
     "execution_count": 3,
     "metadata": {},
     "output_type": "execute_result"
    }
   ],
   "source": [
    "val up = new Upper\n",
    "Console.println(up.upper(\"A\", \"First\", \"Scala\", \"Script\"))"
   ]
  },
  {
   "cell_type": "code",
   "execution_count": 4,
   "metadata": {},
   "outputs": [
    {
     "name": "stdout",
     "output_type": "stream",
     "text": [
      "ArrayBuffer(A, SECOND, SCALA, SCRIPT)\n"
     ]
    },
    {
     "data": {
      "text/plain": [
       "defined object UpperSimplified\n"
      ]
     },
     "execution_count": 4,
     "metadata": {},
     "output_type": "execute_result"
    }
   ],
   "source": [
    "// We can simplify a little the code, writing it like below\n",
    "/* Some more questions about it...\n",
    "Question #4: What is the difference between object and class? Well, being\n",
    "short, an object does not need to be instantiate, we can use it once only!\n",
    "But class needs to be instantiante. Objects is more like static in java.\n",
    "*/\n",
    "\n",
    "object UpperSimplified {\n",
    "    def upper(string: String*) = string.map(_.toUpperCase())\n",
    "}\n",
    "\n",
    "println(UpperSimplified.upper(\"A\", \"Second\", \"Scala\", \"Script\"))"
   ]
  },
  {
   "cell_type": "markdown",
   "metadata": {},
   "source": [
    "See the book, page 39 for more about how to make a compiled script, to create the .class file"
   ]
  },
  {
   "cell_type": "code",
   "execution_count": null,
   "metadata": {},
   "outputs": [],
   "source": []
  }
 ],
 "metadata": {
  "kernelspec": {
   "display_name": "spylon-kernel",
   "language": "scala",
   "name": "spylon-kernel"
  },
  "language_info": {
   "codemirror_mode": "text/x-scala",
   "file_extension": ".scala",
   "help_links": [
    {
     "text": "MetaKernel Magics",
     "url": "https://metakernel.readthedocs.io/en/latest/source/README.html"
    }
   ],
   "mimetype": "text/x-scala",
   "name": "scala",
   "pygments_lexer": "scala",
   "version": "0.4.1"
  }
 },
 "nbformat": 4,
 "nbformat_minor": 4
}
